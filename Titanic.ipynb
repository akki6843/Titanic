{
 "cells": [
  {
   "cell_type": "markdown",
   "metadata": {},
   "source": [
    "# Titanic Project\n"
   ]
  },
  {
   "cell_type": "markdown",
   "metadata": {},
   "source": [
    "## In this project we will discuss the data analysis of Titanic crash and will try to look deeper into the information to get the answers of different questions that are raised while looking into the collected data by kaggle.\n"
   ]
  },
  {
   "cell_type": "markdown",
   "metadata": {},
   "source": [
    "## The Questions that I think should be clearlly answerable from the provided dataset\n",
    "\n",
    "### 1) Is it possible that pclass(Socio-economic class) has any interference with number of lives saved?\n",
    "#### hypothesis 1) pclass had no effect on the lives saved\n",
    "### 2) Did gender played any role in saving lives of the Passanger?\n",
    "#### hypothesis 2) gender didnot play any role in saving lives.\n",
    "\n"
   ]
  },
  {
   "cell_type": "markdown",
   "metadata": {},
   "source": [
    "From the Titanic data, we can see the various features present for each passenger on the ship:\n",
    "\n",
    "    Survived: Outcome of survival (0 = No; 1 = Yes)\n",
    "    Pclass: Socio-economic class (1 = Upper class; 2 = Middle class; 3 = Lower class)\n",
    "    Name: Name of passenger\n",
    "    Sex: Sex of the passenger\n",
    "    Age: Age of the passenger (Some entries contain NaN)\n",
    "    SibSp: Number of siblings and spouses of the passenger aboard\n",
    "    Parch: Number of parents and children of the passenger aboard\n",
    "    Ticket: Ticket number of the passenger\n",
    "    Fare: Fare paid by the passenger\n",
    "    Cabin Cabin number of the passenger (Some entries contain NaN)\n",
    "    Embarked: Port of embarkation of the passenger (C = Cherbourg; Q = Queenstown; S = Southampton)\n",
    "\n",
    "This information is available on kaggle's website\n"
   ]
  },
  {
   "cell_type": "code",
   "execution_count": 2,
   "metadata": {
    "collapsed": true
   },
   "outputs": [],
   "source": [
    "%matplotlib inline\n",
    "import numpy as np\n",
    "import pandas as pd\n",
    "import matplotlib.pyplot as plt"
   ]
  },
  {
   "cell_type": "markdown",
   "metadata": {},
   "source": [
    "#### First thing first taking a look at dataset to create a idea to answer the raised questions."
   ]
  },
  {
   "cell_type": "code",
   "execution_count": 3,
   "metadata": {},
   "outputs": [
    {
     "name": "stdout",
     "output_type": "stream",
     "text": [
      "   PassengerId  Survived  Pclass  \\\n",
      "0            1         0       3   \n",
      "1            2         1       1   \n",
      "2            3         1       3   \n",
      "3            4         1       1   \n",
      "4            5         0       3   \n",
      "\n",
      "                                                Name     Sex   Age  SibSp  \\\n",
      "0                            Braund, Mr. Owen Harris    male  22.0      1   \n",
      "1  Cumings, Mrs. John Bradley (Florence Briggs Th...  female  38.0      1   \n",
      "2                             Heikkinen, Miss. Laina  female  26.0      0   \n",
      "3       Futrelle, Mrs. Jacques Heath (Lily May Peel)  female  35.0      1   \n",
      "4                           Allen, Mr. William Henry    male  35.0      0   \n",
      "\n",
      "   Parch            Ticket     Fare Cabin Embarked  \n",
      "0      0         A/5 21171   7.2500   NaN        S  \n",
      "1      0          PC 17599  71.2833   C85        C  \n",
      "2      0  STON/O2. 3101282   7.9250   NaN        S  \n",
      "3      0            113803  53.1000  C123        S  \n",
      "4      0            373450   8.0500   NaN        S  \n",
      "     PassengerId  Survived  Pclass                                      Name  \\\n",
      "886          887         0       2                     Montvila, Rev. Juozas   \n",
      "887          888         1       1              Graham, Miss. Margaret Edith   \n",
      "888          889         0       3  Johnston, Miss. Catherine Helen \"Carrie\"   \n",
      "889          890         1       1                     Behr, Mr. Karl Howell   \n",
      "890          891         0       3                       Dooley, Mr. Patrick   \n",
      "\n",
      "        Sex   Age  SibSp  Parch      Ticket   Fare Cabin Embarked  \n",
      "886    male  27.0      0      0      211536  13.00   NaN        S  \n",
      "887  female  19.0      0      0      112053  30.00   B42        S  \n",
      "888  female   NaN      1      2  W./C. 6607  23.45   NaN        S  \n",
      "889    male  26.0      0      0      111369  30.00  C148        C  \n",
      "890    male  32.0      0      0      370376   7.75   NaN        Q  \n"
     ]
    }
   ],
   "source": [
    "data = pd.read_csv('titanic-data.csv')\n",
    "print(data.head())\n",
    "print(data.tail())"
   ]
  },
  {
   "cell_type": "markdown",
   "metadata": {},
   "source": [
    "#### After looking into the data and proposed questions, I think following coloums dosent play much role in the dataset \n",
    "\n",
    "    Name\n",
    "    Ticket\n",
    "    Cabin\n",
    "    Fare\n",
    "    Embarked\n",
    "    Parch\n",
    "    SibSp\n",
    "    \n",
    "So the above listed coloums will be removed.\n",
    "And it will be followed by the data cleaning to take care of missing values"
   ]
  },
  {
   "cell_type": "code",
   "execution_count": 4,
   "metadata": {},
   "outputs": [
    {
     "name": "stdout",
     "output_type": "stream",
     "text": [
      "   PassengerId  Survived  Pclass     Sex   Age\n",
      "0            1         0       3    male  22.0\n",
      "1            2         1       1  female  38.0\n",
      "2            3         1       3  female  26.0\n",
      "3            4         1       1  female  35.0\n",
      "4            5         0       3    male  35.0\n"
     ]
    }
   ],
   "source": [
    "clean_data = data.drop(['Name','Ticket','Cabin','Fare','Embarked', 'Parch', 'SibSp'], axis=1)\n",
    "print(clean_data.head())"
   ]
  },
  {
   "cell_type": "markdown",
   "metadata": {},
   "source": [
    "#### Now Dealing with the missing values as they may affect the outcome\n",
    "#### Therefore we will calculate the mean value and then will replace it from NAN "
   ]
  },
  {
   "cell_type": "code",
   "execution_count": 5,
   "metadata": {},
   "outputs": [
    {
     "name": "stdout",
     "output_type": "stream",
     "text": [
      "29.6991176471\n"
     ]
    }
   ],
   "source": [
    "age_mean = np.mean(clean_data['Age'])\n",
    "print age_mean"
   ]
  },
  {
   "cell_type": "markdown",
   "metadata": {},
   "source": [
    "#### So to Handle the missing values, replace null by mean"
   ]
  },
  {
   "cell_type": "code",
   "execution_count": 6,
   "metadata": {
    "collapsed": true
   },
   "outputs": [],
   "source": [
    "clean_data['Age'] = clean_data['Age'].replace(np.nan, age_mean)"
   ]
  },
  {
   "cell_type": "code",
   "execution_count": 7,
   "metadata": {},
   "outputs": [
    {
     "name": "stdout",
     "output_type": "stream",
     "text": [
      "   PassengerId  Survived  Pclass     Sex   Age\n",
      "0            1         0       3    male  22.0\n",
      "1            2         1       1  female  38.0\n",
      "2            3         1       3  female  26.0\n",
      "3            4         1       1  female  35.0\n",
      "4            5         0       3    male  35.0\n",
      "     PassengerId  Survived  Pclass     Sex        Age\n",
      "886          887         0       2    male  27.000000\n",
      "887          888         1       1  female  19.000000\n",
      "888          889         0       3  female  29.699118\n",
      "889          890         1       1    male  26.000000\n",
      "890          891         0       3    male  32.000000\n"
     ]
    }
   ],
   "source": [
    "print clean_data.head()\n",
    "print clean_data.tail()"
   ]
  },
  {
   "cell_type": "markdown",
   "metadata": {},
   "source": [
    "#### So from above display we now no longer need the age coloum as now we have a updated age where every person is  having a age value."
   ]
  },
  {
   "cell_type": "markdown",
   "metadata": {},
   "source": [
    "#### Now calculating the standerd statistics for the dataset to get a genral idea of distribution\n"
   ]
  },
  {
   "cell_type": "code",
   "execution_count": 9,
   "metadata": {},
   "outputs": [
    {
     "data": {
      "text/html": [
       "<div>\n",
       "<style>\n",
       "    .dataframe thead tr:only-child th {\n",
       "        text-align: right;\n",
       "    }\n",
       "\n",
       "    .dataframe thead th {\n",
       "        text-align: left;\n",
       "    }\n",
       "\n",
       "    .dataframe tbody tr th {\n",
       "        vertical-align: top;\n",
       "    }\n",
       "</style>\n",
       "<table border=\"1\" class=\"dataframe\">\n",
       "  <thead>\n",
       "    <tr style=\"text-align: right;\">\n",
       "      <th></th>\n",
       "      <th>PassengerId</th>\n",
       "      <th>Survived</th>\n",
       "      <th>Pclass</th>\n",
       "      <th>Age</th>\n",
       "    </tr>\n",
       "  </thead>\n",
       "  <tbody>\n",
       "    <tr>\n",
       "      <th>count</th>\n",
       "      <td>891.000000</td>\n",
       "      <td>891.000000</td>\n",
       "      <td>891.000000</td>\n",
       "      <td>891.000000</td>\n",
       "    </tr>\n",
       "    <tr>\n",
       "      <th>mean</th>\n",
       "      <td>446.000000</td>\n",
       "      <td>0.383838</td>\n",
       "      <td>2.308642</td>\n",
       "      <td>29.699118</td>\n",
       "    </tr>\n",
       "    <tr>\n",
       "      <th>std</th>\n",
       "      <td>257.353842</td>\n",
       "      <td>0.486592</td>\n",
       "      <td>0.836071</td>\n",
       "      <td>13.002015</td>\n",
       "    </tr>\n",
       "    <tr>\n",
       "      <th>min</th>\n",
       "      <td>1.000000</td>\n",
       "      <td>0.000000</td>\n",
       "      <td>1.000000</td>\n",
       "      <td>0.420000</td>\n",
       "    </tr>\n",
       "    <tr>\n",
       "      <th>25%</th>\n",
       "      <td>223.500000</td>\n",
       "      <td>0.000000</td>\n",
       "      <td>2.000000</td>\n",
       "      <td>22.000000</td>\n",
       "    </tr>\n",
       "    <tr>\n",
       "      <th>50%</th>\n",
       "      <td>446.000000</td>\n",
       "      <td>0.000000</td>\n",
       "      <td>3.000000</td>\n",
       "      <td>29.699118</td>\n",
       "    </tr>\n",
       "    <tr>\n",
       "      <th>75%</th>\n",
       "      <td>668.500000</td>\n",
       "      <td>1.000000</td>\n",
       "      <td>3.000000</td>\n",
       "      <td>35.000000</td>\n",
       "    </tr>\n",
       "    <tr>\n",
       "      <th>max</th>\n",
       "      <td>891.000000</td>\n",
       "      <td>1.000000</td>\n",
       "      <td>3.000000</td>\n",
       "      <td>80.000000</td>\n",
       "    </tr>\n",
       "  </tbody>\n",
       "</table>\n",
       "</div>"
      ],
      "text/plain": [
       "       PassengerId    Survived      Pclass         Age\n",
       "count   891.000000  891.000000  891.000000  891.000000\n",
       "mean    446.000000    0.383838    2.308642   29.699118\n",
       "std     257.353842    0.486592    0.836071   13.002015\n",
       "min       1.000000    0.000000    1.000000    0.420000\n",
       "25%     223.500000    0.000000    2.000000   22.000000\n",
       "50%     446.000000    0.000000    3.000000   29.699118\n",
       "75%     668.500000    1.000000    3.000000   35.000000\n",
       "max     891.000000    1.000000    3.000000   80.000000"
      ]
     },
     "execution_count": 9,
     "metadata": {},
     "output_type": "execute_result"
    }
   ],
   "source": [
    "clean_data.describe()"
   ]
  },
  {
   "cell_type": "markdown",
   "metadata": {},
   "source": [
    "#### The above chart provides the various values for the dataset such as total count, mean, standerd deviation, Maximum and minimum"
   ]
  },
  {
   "cell_type": "markdown",
   "metadata": {},
   "source": [
    "#### list of survived and dead which will provide us the final stage to answer our questions"
   ]
  },
  {
   "cell_type": "code",
   "execution_count": 10,
   "metadata": {
    "collapsed": true
   },
   "outputs": [],
   "source": [
    "survived = clean_data[clean_data.Survived==True]\n",
    "dead = clean_data[clean_data.Survived==False]"
   ]
  },
  {
   "cell_type": "code",
   "execution_count": 11,
   "metadata": {},
   "outputs": [
    {
     "name": "stdout",
     "output_type": "stream",
     "text": [
      "   PassengerId  Survived  Pclass     Sex   Age\n",
      "1            2         1       1  female  38.0\n",
      "2            3         1       3  female  26.0\n",
      "3            4         1       1  female  35.0\n",
      "8            9         1       3  female  27.0\n",
      "9           10         1       2  female  14.0\n",
      "---------------\n",
      "   PassengerId  Survived  Pclass   Sex        Age\n",
      "0            1         0       3  male  22.000000\n",
      "4            5         0       3  male  35.000000\n",
      "5            6         0       3  male  29.699118\n",
      "6            7         0       1  male  54.000000\n",
      "7            8         0       3  male   2.000000\n"
     ]
    }
   ],
   "source": [
    "print survived.head()\n",
    "print'---------------'\n",
    "print dead.head()"
   ]
  },
  {
   "cell_type": "markdown",
   "metadata": {},
   "source": [
    "#### As we can see from the above display that the list of survived and dead is created and now we can start our analysis from this list"
   ]
  },
  {
   "cell_type": "markdown",
   "metadata": {},
   "source": [
    "#### Now in order to answer our first question we will group the data as per there Socio-economic class and then we will plot them to get our answers"
   ]
  },
  {
   "cell_type": "code",
   "execution_count": 12,
   "metadata": {
    "collapsed": true
   },
   "outputs": [],
   "source": [
    "class_of_survived = survived.groupby(['Pclass']).size()\n",
    "class_of_dead = dead.groupby(['Pclass']).size()"
   ]
  },
  {
   "cell_type": "markdown",
   "metadata": {},
   "source": [
    "### # 1) Is it possible that pclass(Socio-economic class) has any interference with number of lives saved?\n"
   ]
  },
  {
   "cell_type": "code",
   "execution_count": 13,
   "metadata": {},
   "outputs": [
    {
     "name": "stdout",
     "output_type": "stream",
     "text": [
      "Pclass\n",
      "1    136\n",
      "2     87\n",
      "3    119\n",
      "dtype: int64\n",
      "-----------------\n",
      "Pclass\n",
      "1     80\n",
      "2     97\n",
      "3    372\n",
      "dtype: int64\n"
     ]
    }
   ],
   "source": [
    "print class_of_survived\n",
    "print'-----------------'\n",
    "print class_of_dead"
   ]
  },
  {
   "cell_type": "code",
   "execution_count": 14,
   "metadata": {},
   "outputs": [
    {
     "data": {
      "text/plain": [
       "<matplotlib.text.Text at 0x7f98e256e3d0>"
      ]
     },
     "execution_count": 14,
     "metadata": {},
     "output_type": "execute_result"
    },
    {
     "data": {
      "image/png": "[encoded data removed]",
      "text/plain": [
       "<matplotlib.figure.Figure at 0x7f98e25d7a10>"
      ]
     },
     "metadata": {},
     "output_type": "display_data"
    }
   ],
   "source": [
    "survived.groupby(['Pclass']).size().plot(kind='bar',stacked=True)\n",
    "plt.ylabel('Count')\n",
    "plt.xlabel('Socio-economic class (1 = Upper class; 2 = Middle class; 3 = Lower class)')\n",
    "plt.title('Survived',fontsize=14)"
   ]
  },
  {
   "cell_type": "markdown",
   "metadata": {},
   "source": [
    "Pclass: Socio-economic class (1 = Upper class; 2 = Middle class; 3 = Lower class)\n",
    "\n",
    "From the above graph we can see that lots of lives were saved"
   ]
  },
  {
   "cell_type": "code",
   "execution_count": 15,
   "metadata": {},
   "outputs": [
    {
     "data": {
      "text/plain": [
       "<matplotlib.text.Text at 0x7f98e0474d90>"
      ]
     },
     "execution_count": 15,
     "metadata": {},
     "output_type": "execute_result"
    },
    {
     "data": {
      "image/png": "[encoded data removed]",
      "text/plain": [
       "<matplotlib.figure.Figure at 0x7f98e2559150>"
      ]
     },
     "metadata": {},
     "output_type": "display_data"
    }
   ],
   "source": [
    "dead.groupby(['Pclass']).size().plot(kind='bar',stacked=True)\n",
    "plt.ylabel('Count')\n",
    "plt.xlabel('Socio-economic class (1 = Upper class; 2 = Middle class; 3 = Lower class)')\n",
    "plt.title('NOT-Survived',fontsize=14)"
   ]
  },
  {
   "cell_type": "markdown",
   "metadata": {},
   "source": [
    "Pclass: Socio-economic class (1 = Upper class; 2 = Middle class; 3 = Lower class)\n",
    "\n",
    "The above plot shows the distribution "
   ]
  },
  {
   "cell_type": "code",
   "execution_count": 117,
   "metadata": {},
   "outputs": [
    {
     "name": "stdout",
     "output_type": "stream",
     "text": [
      "Survived    0    1\n",
      "Pclass            \n",
      "1          80  136\n",
      "2          97   87\n",
      "3         372  119\n"
     ]
    }
   ],
   "source": [
    "data_socio = pd.pivot_table(data=clean_data,\n",
    "                       values='PassengerId', index='Pclass', columns='Survived', aggfunc='count')\n",
    "\n",
    "print data_socio"
   ]
  },
  {
   "cell_type": "code",
   "execution_count": 126,
   "metadata": {
    "scrolled": true
   },
   "outputs": [
    {
     "data": {
      "image/png": "[encoded data removed]",
      "text/plain": [
       "<matplotlib.figure.Figure at 0x7f98ce1937d0>"
      ]
     },
     "metadata": {},
     "output_type": "display_data"
    }
   ],
   "source": [
    "upper = data_socio.loc[1]\n",
    "middle = data_socio.loc[2]\n",
    "lower = data_socio.loc[3]\n",
    "\n",
    "fig, axes = plt.subplots(nrows=1, ncols=3, figsize=(8,4))\n",
    "pie_1 = axes[0].pie(upper, labels=['Not survived','Survived'],\n",
    "                    autopct='%1.1f%%', colors=['gold', 'lightskyblue'])\n",
    "\n",
    "axes[0].set_title('upper')\n",
    "axes[0].axis('equal')\n",
    "\n",
    "pie_2 = axes[1].pie(middle, labels=['Not survived','Survived'], \n",
    "                    autopct='%1.1f%%', startangle=90, colors=['gold', 'lightskyblue'])\n",
    "axes[1].set_title('middle')\n",
    "axes[1].axis('equal')\n",
    "\n",
    "pie_3 = axes[2].pie(lower, labels=['Not survived','Survived'], \n",
    "                    autopct='%1.1f%%', startangle=90, colors=['gold', 'lightskyblue'])\n",
    "\n",
    "axes[2].set_title('lower')\n",
    "axes[2].axis('equal')\n",
    "\n",
    "plt.subplots_adjust(wspace=1)"
   ]
  },
  {
   "cell_type": "markdown",
   "metadata": {},
   "source": [
    "#### To get a more detailed look, I have again ploted the socio-economic class but this time using pie chart and it gives us even more information compared to bar plot"
   ]
  },
  {
   "cell_type": "markdown",
   "metadata": {},
   "source": [
    "#### Lets put some thought on what could have happened when titanic went down in the sea, from the above charts and displayed value one thing is clear that lots of passenger did survived the accident. But when we look closer we come to our first question that is \" Does Socio-economic class has any effect of saving the number of lifes ?\"\n",
    "\n",
    "#### So to answer this we first divided the dataset into survived and dead and then they were further grouped on there Socio-economic classes, this step has reveled that the passenger class has a remarkable effect on the number of lives saved. if we take a look on the chart titled as Not-Survived we can clearly see that coloum representing the lower class is very high as compare to other coloums. \n",
    "\n",
    "#### So for our first hypothesis that pclass had no effect on the lives saved.\n",
    "#### null is rejected as from the chart it is visible in conclusion we will discuss what could be the reason behind this. "
   ]
  },
  {
   "cell_type": "markdown",
   "metadata": {},
   "source": [
    "### #2) Did gender played any role in saving lives of the Passanger?"
   ]
  },
  {
   "cell_type": "markdown",
   "metadata": {},
   "source": [
    "#### Now to answer our next question we will regroup the data as per there gender"
   ]
  },
  {
   "cell_type": "code",
   "execution_count": 127,
   "metadata": {},
   "outputs": [],
   "source": [
    "gender_based_survived = pd.crosstab(survived['Survived'], survived['Sex'])\n",
    "gender_based_dead = pd.crosstab(dead['Survived'], dead['Sex'])"
   ]
  },
  {
   "cell_type": "code",
   "execution_count": 44,
   "metadata": {},
   "outputs": [
    {
     "name": "stdout",
     "output_type": "stream",
     "text": [
      "Sex       female  male\n",
      "Survived              \n",
      "1            233   109\n",
      "Sex       female  male\n",
      "Survived              \n",
      "0             81   468\n"
     ]
    }
   ],
   "source": [
    "print gender_based_survived\n",
    "print gender_based_dead"
   ]
  },
  {
   "cell_type": "code",
   "execution_count": 45,
   "metadata": {},
   "outputs": [
    {
     "data": {
      "text/plain": [
       "<matplotlib.text.Text at 0x7f98d7d56e10>"
      ]
     },
     "execution_count": 45,
     "metadata": {},
     "output_type": "execute_result"
    },
    {
     "data": {
      "image/png": "[encoded data removed]",
      "text/plain": [
       "<matplotlib.figure.Figure at 0x7f98d45f6950>"
      ]
     },
     "metadata": {},
     "output_type": "display_data"
    }
   ],
   "source": [
    "pd.crosstab(survived['Survived'], survived['Sex']).plot(kind = 'bar', stacked = False)\n",
    "plt.title('Survived')\n",
    "plt.ylabel('Count')\n",
    "plt.xlabel('gender (1 = survived)')\n"
   ]
  },
  {
   "cell_type": "code",
   "execution_count": 46,
   "metadata": {},
   "outputs": [
    {
     "data": {
      "text/plain": [
       "<matplotlib.text.Text at 0x7f98d40c5b50>"
      ]
     },
     "execution_count": 46,
     "metadata": {},
     "output_type": "execute_result"
    },
    {
     "data": {
      "image/png": "[encoded data removed]",
      "text/plain": [
       "<matplotlib.figure.Figure at 0x7f98d45e70d0>"
      ]
     },
     "metadata": {},
     "output_type": "display_data"
    }
   ],
   "source": [
    "pd.crosstab(dead['Survived'], dead['Sex']).plot(kind = 'bar',stacked = False)\n",
    "plt.title('Not - Survived')\n",
    "plt.ylabel('Count')\n",
    "plt.xlabel('gender (0 = didnot survive)')"
   ]
  },
  {
   "cell_type": "code",
   "execution_count": 115,
   "metadata": {},
   "outputs": [
    {
     "name": "stdout",
     "output_type": "stream",
     "text": [
      "Survived    0    1\n",
      "Sex               \n",
      "female     81  233\n",
      "male      468  109\n"
     ]
    }
   ],
   "source": [
    "data_gender = pd.pivot_table(data=clean_data,\n",
    "                       values='PassengerId', index='Sex', columns='Survived', aggfunc='count')\n",
    "\n",
    "print data_gender"
   ]
  },
  {
   "cell_type": "code",
   "execution_count": 116,
   "metadata": {},
   "outputs": [
    {
     "data": {
      "text/plain": [
       "(-1.1024244704370045,\n",
       " 1.1051575290289077,\n",
       " -1.1038686046053754,\n",
       " 1.1001842192669227)"
      ]
     },
     "execution_count": 116,
     "metadata": {},
     "output_type": "execute_result"
    },
    {
     "data": {
      "image/png": "[encoded data removed]",
      "text/plain": [
       "<matplotlib.figure.Figure at 0x7f98cf19e350>"
      ]
     },
     "metadata": {},
     "output_type": "display_data"
    }
   ],
   "source": [
    "female = data_gender.loc['female']\n",
    "male = data_gender.loc['male']\n",
    "\n",
    "fig, axes = plt.subplots(nrows=1, ncols=2, figsize=(8,4))\n",
    "pie_1 = axes[0].pie(female, labels=['Not survived','Survived'],\n",
    "                    autopct='%1.1f%%', colors=['gold', 'lightskyblue'])\n",
    "\n",
    "axes[0].set_title('Female')\n",
    "axes[0].axis('equal')\n",
    "pie_2 = axes[1].pie(male, labels=['Not survived','Survived'], \n",
    "                    autopct='%1.1f%%', startangle=90, colors=['gold', 'lightskyblue'])\n",
    "axes[1].set_title('Male')\n",
    "plt.axis('equal')"
   ]
  },
  {
   "cell_type": "markdown",
   "metadata": {},
   "source": [
    "#### Now using the pie chart to compare the data of survived and Not-survived for male and female passenger"
   ]
  },
  {
   "cell_type": "markdown",
   "metadata": {},
   "source": [
    "#### For the Second question \"Did gender played any role in saving lives ?\"\n",
    "#### our hypothesis says that gender had nothing to do with lives saved.\n",
    "#### but if we take a look at charts its very clear that female passengers were saved as the priority. \n",
    "#### So based on this we reject the null hypothesis."
   ]
  },
  {
   "cell_type": "markdown",
   "metadata": {},
   "source": [
    "### Conclusion:"
   ]
  },
  {
   "cell_type": "markdown",
   "metadata": {},
   "source": [
    "#### From the above two questions and there hypothesis analysis we must make some conclusion about what could have have happened. And as per my analysis and understanding about the build of titanic 1)Socio-economic group did played a rol when it came to passenger survived as, passengers from upper class had there cabins towards the upper deck, which made it very easy for them to access the life saving boats.  As compared to lower class whoes cabins were situated at the lower decks as a result when the accident happened they didnt had much of the time to react and resulted in tremandous loss of life. 2) Also about the gender being a one of the major player in saving lives, I think as it was the most and obvious decision to save females first as a part of first and most basic instinct of a human.\n",
    "\n",
    "#### And as a part of further exploration i will definatlly look into the possiblity of age factor and one thing I think I will enjoy solving is all those who travled with family did maneged to get atleast one of there family member to survive."
   ]
  }
 ],
 "metadata": {
  "kernelspec": {
   "display_name": "Python 2",
   "language": "python",
   "name": "python2"
  },
  "language_info": {
   "codemirror_mode": {
    "name": "ipython",
    "version": 2
   },
   "file_extension": ".py",
   "mimetype": "text/x-python",
   "name": "python",
   "nbconvert_exporter": "python",
   "pygments_lexer": "ipython2",
   "version": "2.7.13"
  }
 },
 "nbformat": 4,
 "nbformat_minor": 2
}
